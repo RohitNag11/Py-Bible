{
 "cells": [
  {
   "cell_type": "markdown",
   "source": [
    "# Dictionaries\r\n",
    "- [Create dictionaries](#create-dictionaries-)\r\n",
    "- [Find a value associated with a key](#find-a-value-associated-with-a-key-)\r\n",
    "- [Change a value associated with a key](#change-a-value-associated-with-a-key-)\r\n",
    "- [Iterate over key-value pairs](#iterate-over-key-value-pairs-)"
   ],
   "metadata": {}
  },
  {
   "cell_type": "markdown",
   "source": [
    "## Create dictionaries:"
   ],
   "metadata": {}
  },
  {
   "cell_type": "code",
   "execution_count": null,
   "source": [
    "# define an empty dictionary:\r\n",
    "d = {}\r\n",
    "\r\n",
    "# define a dictionary with predetermined values:\r\n",
    "#d = {\"George\": 24, \"Tom\": 32}\r\n",
    "\r\n",
    "# add a key-value pair:\r\n",
    "# keys are commonly strings or numbers\r\n",
    "d[\"George\"] = 24\r\n",
    "d[\"Tom\"] = 16\r\n",
    "d[\"Jenny\"] = 16\r\n",
    "d[10] = 100"
   ],
   "outputs": [],
   "metadata": {}
  },
  {
   "cell_type": "markdown",
   "source": [
    "## Find a value associated with a key:"
   ],
   "metadata": {}
  },
  {
   "cell_type": "code",
   "execution_count": null,
   "source": [
    "print(d[\"George\"])\r\n",
    "print(d[10])"
   ],
   "outputs": [],
   "metadata": {}
  },
  {
   "cell_type": "markdown",
   "source": [
    "## Change a value associated with a key:"
   ],
   "metadata": {}
  },
  {
   "cell_type": "code",
   "execution_count": null,
   "source": [
    "d[\"Jenny\"] = 20"
   ],
   "outputs": [],
   "metadata": {}
  },
  {
   "cell_type": "markdown",
   "source": [
    "## Iterate over key-value pairs:"
   ],
   "metadata": {}
  },
  {
   "cell_type": "code",
   "execution_count": null,
   "source": [
    "for key, value in d.items():\r\n",
    "    print(\"key:\")\r\n",
    "    print(key)\r\n",
    "    print(\"value:\")\r\n",
    "    print(value)\r\n",
    "    print(\"\")"
   ],
   "outputs": [],
   "metadata": {}
  }
 ],
 "metadata": {
  "orig_nbformat": 4,
  "language_info": {
   "name": "python",
   "version": "3.8.3"
  },
  "kernelspec": {
   "name": "python3",
   "display_name": "Python 3.8.3 64-bit"
  },
  "interpreter": {
   "hash": "e404b59586357c814bc0d3940e75d6763c00a48753b225b81f7716971b8e1741"
  }
 },
 "nbformat": 4,
 "nbformat_minor": 2
}