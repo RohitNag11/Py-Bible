{
 "cells": [
  {
   "cell_type": "markdown",
   "source": [
    "# Sets\r\n",
    "A set is a type of data that stores a set of **unique** things.\r\n",
    "- [Creating a set](#creating-a-set-)\r\n",
    "  * [Create an empty set](#create-an-empty-set-)\r\n",
    "  * [Add elements to a set](#add-elements-to-a-set-)\r\n",
    "- [Iterate over every element in the set](#iterate-over-every-element-in-the-set-)\r\n",
    "- [Remove duplicates from a list and store in a set](#remove-duplicates-from-a-list-and-store-in-a-set-)\r\n",
    "- [Convert set to list](#convert-set-to-list-)"
   ],
   "metadata": {}
  },
  {
   "cell_type": "markdown",
   "source": [
    "## Creating a set:"
   ],
   "metadata": {}
  },
  {
   "cell_type": "markdown",
   "source": [
    "### Create an empty set:"
   ],
   "metadata": {}
  },
  {
   "cell_type": "code",
   "execution_count": 5,
   "source": [
    "a= set()\r\n",
    "print(a)"
   ],
   "outputs": [
    {
     "output_type": "stream",
     "name": "stdout",
     "text": [
      "set()\n"
     ]
    }
   ],
   "metadata": {}
  },
  {
   "cell_type": "markdown",
   "source": [
    "### Add elements to a set: \r\n",
    "- sets wont accept duplicates\r\n",
    "- sets can store different types of data (but not lists)\r\n",
    "- order is not preserved when adding elements to a set"
   ],
   "metadata": {}
  },
  {
   "cell_type": "code",
   "execution_count": 24,
   "source": [
    "a.add(1)\r\n",
    "a.add(2)\r\n",
    "a.add(2)\r\n",
    "a.add('string')\r\n",
    "a.add(1)\r\n",
    "a.add((1,2))\r\n",
    "\r\n",
    "print(a)"
   ],
   "outputs": [
    {
     "output_type": "stream",
     "name": "stdout",
     "text": [
      "{1, 2, (1, 2), 'string'}\n"
     ]
    }
   ],
   "metadata": {}
  },
  {
   "cell_type": "markdown",
   "source": [
    "## Iterate over every element in the set:"
   ],
   "metadata": {}
  },
  {
   "cell_type": "code",
   "execution_count": 9,
   "source": [
    "for x in a:\r\n",
    "    print(x)"
   ],
   "outputs": [
    {
     "output_type": "stream",
     "name": "stdout",
     "text": [
      "1\n",
      "2\n"
     ]
    }
   ],
   "metadata": {}
  },
  {
   "cell_type": "markdown",
   "source": [
    "## Remove duplicates from a list and store in a set:"
   ],
   "metadata": {}
  },
  {
   "cell_type": "code",
   "execution_count": 20,
   "source": [
    "given_list = [1, 1, 1, 2, 3, 3, 4, 5, 5, 6, 7, 7]\r\n",
    "new_set = set(given_list)\r\n",
    "print(new_set)"
   ],
   "outputs": [
    {
     "output_type": "stream",
     "name": "stdout",
     "text": [
      "{1, 2, 3, 4, 5, 6, 7}\n"
     ]
    }
   ],
   "metadata": {}
  },
  {
   "cell_type": "markdown",
   "source": [
    "## Convert set to list:"
   ],
   "metadata": {}
  },
  {
   "cell_type": "code",
   "execution_count": 21,
   "source": [
    "new_list = list(new_set)\r\n",
    "print(new_list)"
   ],
   "outputs": [
    {
     "output_type": "stream",
     "name": "stdout",
     "text": [
      "[1, 2, 3, 4, 5, 6, 7]\n"
     ]
    }
   ],
   "metadata": {}
  }
 ],
 "metadata": {
  "orig_nbformat": 4,
  "language_info": {
   "name": "python",
   "version": "3.8.3",
   "mimetype": "text/x-python",
   "codemirror_mode": {
    "name": "ipython",
    "version": 3
   },
   "pygments_lexer": "ipython3",
   "nbconvert_exporter": "python",
   "file_extension": ".py"
  },
  "kernelspec": {
   "name": "python3",
   "display_name": "Python 3.8.3 64-bit"
  },
  "interpreter": {
   "hash": "e404b59586357c814bc0d3940e75d6763c00a48753b225b81f7716971b8e1741"
  }
 },
 "nbformat": 4,
 "nbformat_minor": 2
}