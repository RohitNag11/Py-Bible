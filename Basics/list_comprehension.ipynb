{
 "cells": [
  {
   "cell_type": "markdown",
   "source": [
    "# List Comprehension\r\n",
    "- [Examples of list comprehension](#examples-of-list-comprehension-)\r\n",
    "  * [Comprehension to create a new list of squared values of a given list](#comprehension-to-create-a-new-list-of-squared-values-of-a-given-list-)\r\n",
    "  * [Comprehension to create a list of square numbers upto 36](#comprehension-to-create-a-list-of-square-numbers-upto-36-)\r\n",
    "  * [Comprehension to create a reverse list of square numbers from 36](#comprehension-to-create-a-reverse-list-of-square-numbers-from-36-)"
   ],
   "metadata": {}
  },
  {
   "cell_type": "markdown",
   "source": [
    "## Examples of list comprehension:"
   ],
   "metadata": {}
  },
  {
   "cell_type": "markdown",
   "source": [
    "### Comprehension to create a new list of squared values of a given list"
   ],
   "metadata": {}
  },
  {
   "cell_type": "code",
   "execution_count": null,
   "source": [
    "a = [1, 3, 5, 7, 9, 11]\r\n",
    "\r\n",
    "# c = []\r\n",
    "# for x in a:\r\n",
    "#     c.append(x * 2)\r\n",
    "\r\n",
    "c = [x*2 for x in a]\r\n",
    "print(c)"
   ],
   "outputs": [],
   "metadata": {}
  },
  {
   "cell_type": "markdown",
   "source": [
    "### Comprehension to create a list of square numbers upto 36"
   ],
   "metadata": {}
  },
  {
   "cell_type": "code",
   "execution_count": 5,
   "source": [
    "squares = [i*i for i in range(1, 7)]\r\n",
    "print(squares)"
   ],
   "outputs": [
    {
     "output_type": "stream",
     "name": "stdout",
     "text": [
      "[1, 4, 9, 16, 25, 36]\n"
     ]
    }
   ],
   "metadata": {}
  },
  {
   "cell_type": "markdown",
   "source": [
    "### Comprehension to create a reverse list of square numbers from 36"
   ],
   "metadata": {}
  },
  {
   "cell_type": "code",
   "execution_count": 4,
   "source": [
    "squares = [i*i for i in range(6, 0, -1)]\r\n",
    "print(squares)"
   ],
   "outputs": [
    {
     "output_type": "stream",
     "name": "stdout",
     "text": [
      "[36, 25, 16, 9, 4, 1]\n"
     ]
    }
   ],
   "metadata": {}
  }
 ],
 "metadata": {
  "orig_nbformat": 4,
  "language_info": {
   "name": "python",
   "version": "3.8.3",
   "mimetype": "text/x-python",
   "codemirror_mode": {
    "name": "ipython",
    "version": 3
   },
   "pygments_lexer": "ipython3",
   "nbconvert_exporter": "python",
   "file_extension": ".py"
  },
  "kernelspec": {
   "name": "python3",
   "display_name": "Python 3.8.3 64-bit"
  },
  "interpreter": {
   "hash": "e404b59586357c814bc0d3940e75d6763c00a48753b225b81f7716971b8e1741"
  }
 },
 "nbformat": 4,
 "nbformat_minor": 2
}