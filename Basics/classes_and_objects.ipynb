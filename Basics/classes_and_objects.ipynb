{
 "cells": [
  {
   "cell_type": "markdown",
   "source": [
    "# Classes & Objects"
   ],
   "metadata": {}
  },
  {
   "cell_type": "markdown",
   "source": [
    "## Creating classes:"
   ],
   "metadata": {}
  },
  {
   "cell_type": "markdown",
   "source": [
    "### Create a class called Robot:"
   ],
   "metadata": {}
  },
  {
   "cell_type": "code",
   "execution_count": 1,
   "source": [
    "class Robot:\r\n",
    "    # create a constructor:\r\n",
    "    # (need to add self to any constructor)\r\n",
    "    def __init__(self, name, color, weight):\r\n",
    "        self.name = name\r\n",
    "        self.color = color\r\n",
    "        self.weight = weight\r\n",
    "\r\n",
    "    # create a method:\r\n",
    "    # (need to add self to any method)\r\n",
    "    def introduce(self):\r\n",
    "        print(\"My name is \" + self.name)"
   ],
   "outputs": [],
   "metadata": {}
  },
  {
   "cell_type": "markdown",
   "source": [
    "### Create a class called Person:"
   ],
   "metadata": {}
  },
  {
   "cell_type": "code",
   "execution_count": 2,
   "source": [
    "class Person():\r\n",
    "    def __init__(self, name, personality, isSitting, robotOwned):\r\n",
    "        self.name = name\r\n",
    "        self.personality = personality\r\n",
    "        self.isSitting = isSitting\r\n",
    "        self.robotOwned = robotOwned\r\n",
    "\r\n",
    "    def sit_down(self):\r\n",
    "        self.isSitting = True\r\n",
    "\r\n",
    "    def stand_up(self):\r\n",
    "        self.isSitting = False"
   ],
   "outputs": [],
   "metadata": {}
  },
  {
   "cell_type": "markdown",
   "source": [
    "## Creating objects:"
   ],
   "metadata": {}
  },
  {
   "cell_type": "code",
   "execution_count": 6,
   "source": [
    "r1 = Robot(\"Tom\", \"red\", 30)\r\n",
    "r2 = Robot(\"Jerry\", \"blue\", 40)\r\n",
    "\r\n",
    "p1 = Person(\"Alice\", \"aggressive\", False, r1)\r\n",
    "p2 = Person(\"Becky\", \"talkative\", True, r2)"
   ],
   "outputs": [],
   "metadata": {}
  },
  {
   "cell_type": "markdown",
   "source": [
    "## Running methods:"
   ],
   "metadata": {}
  },
  {
   "cell_type": "code",
   "execution_count": 7,
   "source": [
    "r1.introduce()  # here, self refers to r1\r\n",
    "r2.introduce()  # here, self refers to r2\r\n",
    "p2.stand_up()\r\n",
    "\r\n",
    "print(p2.isSitting)"
   ],
   "outputs": [
    {
     "output_type": "stream",
     "name": "stdout",
     "text": [
      "My name is Tom\n",
      "My name is Jerry\n",
      "False\n"
     ]
    }
   ],
   "metadata": {}
  }
 ],
 "metadata": {
  "orig_nbformat": 4,
  "language_info": {
   "name": "python",
   "version": "3.8.3",
   "mimetype": "text/x-python",
   "codemirror_mode": {
    "name": "ipython",
    "version": 3
   },
   "pygments_lexer": "ipython3",
   "nbconvert_exporter": "python",
   "file_extension": ".py"
  },
  "kernelspec": {
   "name": "python3",
   "display_name": "Python 3.8.3 64-bit"
  },
  "interpreter": {
   "hash": "e404b59586357c814bc0d3940e75d6763c00a48753b225b81f7716971b8e1741"
  }
 },
 "nbformat": 4,
 "nbformat_minor": 2
}