{
 "cells": [
  {
   "cell_type": "markdown",
   "source": [
    "# Trees"
   ],
   "metadata": {}
  },
  {
   "cell_type": "markdown",
   "source": [
    "## Binary tree node class:\r\n",
    "- at most has __two__ child nodes"
   ],
   "metadata": {}
  },
  {
   "cell_type": "code",
   "execution_count": 2,
   "source": [
    "class b_node:\r\n",
    "    def __init__(self, data):\r\n",
    "        self.data = data\r\n",
    "        self.leftChild = None\r\n",
    "        self.rightChild = None"
   ],
   "outputs": [],
   "metadata": {}
  },
  {
   "cell_type": "markdown",
   "source": [
    "## Ternary tree node class:\r\n",
    "- at most has __three__ child nodes"
   ],
   "metadata": {}
  },
  {
   "cell_type": "code",
   "execution_count": 1,
   "source": [
    "class b_node:\r\n",
    "    def __init__(self, data):\r\n",
    "        self.data = data\r\n",
    "        self.leftChild = None\r\n",
    "        self.midChild = None\r\n",
    "        self.rightChild = None"
   ],
   "outputs": [],
   "metadata": {}
  }
 ],
 "metadata": {
  "orig_nbformat": 4,
  "language_info": {
   "name": "python",
   "version": "3.8.3",
   "mimetype": "text/x-python",
   "codemirror_mode": {
    "name": "ipython",
    "version": 3
   },
   "pygments_lexer": "ipython3",
   "nbconvert_exporter": "python",
   "file_extension": ".py"
  },
  "kernelspec": {
   "name": "python3",
   "display_name": "Python 3.8.3 64-bit"
  },
  "interpreter": {
   "hash": "e404b59586357c814bc0d3940e75d6763c00a48753b225b81f7716971b8e1741"
  }
 },
 "nbformat": 4,
 "nbformat_minor": 2
}