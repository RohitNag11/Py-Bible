{
 "cells": [
  {
   "cell_type": "markdown",
   "source": [
    "# Binary Search"
   ],
   "metadata": {}
  },
  {
   "cell_type": "markdown",
   "source": [
    "## Binary Search function\r\n",
    "Takes in the array to be searched, and the item to be found."
   ],
   "metadata": {}
  },
  {
   "cell_type": "code",
   "execution_count": 39,
   "source": [
    "def b_sort(array, target):\r\n",
    "    array = sorted(array)   #Sort array from small to big\r\n",
    "    left = 0\r\n",
    "    right = len(array) - 1\r\n",
    "    while left <= right:\r\n",
    "        mid = int((left + right) / 2)\r\n",
    "        if target == array[mid]:\r\n",
    "            return mid\r\n",
    "        elif target < array[mid]:\r\n",
    "            right = mid - 1\r\n",
    "        else:\r\n",
    "            left = mid + 1\r\n",
    "    return (None) #if target doesn't exist, return None"
   ],
   "outputs": [],
   "metadata": {}
  },
  {
   "cell_type": "markdown",
   "source": [
    "Testing the binary search function:"
   ],
   "metadata": {}
  },
  {
   "cell_type": "code",
   "execution_count": 38,
   "source": [
    "array = [-2, 3, 4, 7, 8, 9, 11, 13]\r\n",
    "target = 21\r\n",
    "print (b_sort(array, target))"
   ],
   "outputs": [
    {
     "output_type": "stream",
     "name": "stdout",
     "text": [
      "None\n"
     ]
    }
   ],
   "metadata": {}
  }
 ],
 "metadata": {
  "orig_nbformat": 4,
  "language_info": {
   "name": "python",
   "version": "3.8.3",
   "mimetype": "text/x-python",
   "codemirror_mode": {
    "name": "ipython",
    "version": 3
   },
   "pygments_lexer": "ipython3",
   "nbconvert_exporter": "python",
   "file_extension": ".py"
  },
  "kernelspec": {
   "name": "python3",
   "display_name": "Python 3.8.3 64-bit"
  },
  "interpreter": {
   "hash": "e404b59586357c814bc0d3940e75d6763c00a48753b225b81f7716971b8e1741"
  }
 },
 "nbformat": 4,
 "nbformat_minor": 2
}