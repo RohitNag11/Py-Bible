{
 "cells": [
  {
   "cell_type": "markdown",
   "source": [
    "# Linked Lists"
   ],
   "metadata": {}
  },
  {
   "cell_type": "markdown",
   "source": [
    "## Create a linked list Node class:"
   ],
   "metadata": {}
  },
  {
   "cell_type": "code",
   "execution_count": 29,
   "source": [
    "class Node:\r\n",
    "    def __init__(self, data):\r\n",
    "        self.data = data\r\n",
    "        self.next = None # make None as the default value for next."
   ],
   "outputs": [],
   "metadata": {
    "collapsed": true
   }
  },
  {
   "cell_type": "markdown",
   "source": [
    "## Function to count number of nodes in a link list given the first node:"
   ],
   "metadata": {}
  },
  {
   "cell_type": "code",
   "execution_count": 30,
   "source": [
    "def count_nodes(head):\r\n",
    "    # assuming that head != None\r\n",
    "    count = 1\r\n",
    "    current = head\r\n",
    "    while current.next is not None:\r\n",
    "        current = current.next\r\n",
    "        count += 1\r\n",
    "    return count"
   ],
   "outputs": [],
   "metadata": {
    "collapsed": true
   }
  },
  {
   "cell_type": "markdown",
   "source": [
    "## Create a linked list:"
   ],
   "metadata": {}
  },
  {
   "cell_type": "code",
   "execution_count": 32,
   "source": [
    "nodeA = Node(6)\r\n",
    "nodeB = Node(3)\r\n",
    "nodeC = Node(4)\r\n",
    "nodeD = Node(2)\r\n",
    "nodeE = Node(1)\r\n",
    "\r\n",
    "nodeA.next = nodeB\r\n",
    "nodeB.next = nodeC\r\n",
    "nodeC.next = nodeD\r\n",
    "nodeD.next = nodeE\r\n",
    "\r\n",
    "print(\"This linked list's length is:\")\r\n",
    "print(count_nodes(nodeA))"
   ],
   "outputs": [
    {
     "output_type": "stream",
     "name": "stdout",
     "text": [
      "This linked list's length is:\n",
      "5\n"
     ]
    }
   ],
   "metadata": {}
  },
  {
   "cell_type": "markdown",
   "source": [
    "## Create a doubly linked list Node class"
   ],
   "metadata": {}
  },
  {
   "cell_type": "code",
   "execution_count": 33,
   "source": [
    "class dNode:\r\n",
    "    def __init__(self, data):\r\n",
    "        self.data = data\r\n",
    "        self.next = None\r\n",
    "        #additional attribute to store previous value:\r\n",
    "        self.prev = None"
   ],
   "outputs": [],
   "metadata": {}
  }
 ],
 "metadata": {
  "kernelspec": {
   "name": "python3",
   "display_name": "Python 3.8.3 64-bit"
  },
  "language_info": {
   "codemirror_mode": {
    "name": "ipython",
    "version": 3
   },
   "file_extension": ".py",
   "mimetype": "text/x-python",
   "name": "python",
   "nbconvert_exporter": "python",
   "pygments_lexer": "ipython3",
   "version": "3.8.3"
  },
  "interpreter": {
   "hash": "e404b59586357c814bc0d3940e75d6763c00a48753b225b81f7716971b8e1741"
  }
 },
 "nbformat": 4,
 "nbformat_minor": 2
}