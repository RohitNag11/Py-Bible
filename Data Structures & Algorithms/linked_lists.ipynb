{
 "cells": [
  {
   "cell_type": "markdown",
   "source": [
    "# Linked Lists\r\n",
    "- [Singly linked list Node class](#singly-linked-list-node-class-)\r\n",
    "- [Singly linked list class](#singly-linked-list-class-)\r\n",
    "- [Create a linked list](#create-a-linked-list-)\r\n",
    "  * [Print linked list](#print-linked-list-)\r\n",
    "  * [Find number of nodes in a linked list](#find-number-of-nodes-in-a-linked-list-)\r\n",
    "- [Create a doubly linked list Node class](#create-a-doubly-linked-list-node-class-)\r\n"
   ],
   "metadata": {}
  },
  {
   "cell_type": "markdown",
   "source": [
    "## Singly linked list Node class:"
   ],
   "metadata": {}
  },
  {
   "cell_type": "code",
   "execution_count": 26,
   "source": [
    "class Node:\r\n",
    "    def __init__(self, data, next=None):\r\n",
    "        self.data = data\r\n",
    "        self.next = next"
   ],
   "outputs": [],
   "metadata": {
    "collapsed": true
   }
  },
  {
   "cell_type": "markdown",
   "source": [
    "## Singly linked list class:"
   ],
   "metadata": {}
  },
  {
   "cell_type": "markdown",
   "source": [
    "This linked list class has the following methods:\r\n",
    "- insert node at the start of the ll\r\n",
    "- insert node at the end of the ll\r\n",
    "- return the number of nodes in the ll\r\n",
    "- print all the nodes in the ll"
   ],
   "metadata": {}
  },
  {
   "cell_type": "code",
   "execution_count": 27,
   "source": [
    "class ll:\r\n",
    "    def __init__(self):\r\n",
    "        self.head = None  #head node is set to none by deafult\r\n",
    "    # insertion method for the linked list\r\n",
    "\r\n",
    "    #Method to insert a node at the end of the linked list:\r\n",
    "    def insertEnd(self, data):\r\n",
    "        newNode = Node(data)\r\n",
    "        if(self.head):\r\n",
    "            current = self.head\r\n",
    "            while(current.next != None):\r\n",
    "                current = current.next\r\n",
    "            current.next = newNode\r\n",
    "        else:\r\n",
    "            self.head = newNode\r\n",
    "\r\n",
    "    #Method to insert a node at the start of the linked list:\r\n",
    "    def insertStart(self, data):\r\n",
    "        newNode = Node(data)\r\n",
    "        newNode.next = self.head\r\n",
    "        self.head = newNode\r\n",
    "\r\n",
    "    #Method to count number of nodes in the linked list:\r\n",
    "    def len(self):\r\n",
    "        count = 0\r\n",
    "        current = self.head\r\n",
    "        while (current):\r\n",
    "            count += 1\r\n",
    "            current = current.next\r\n",
    "        return (count)\r\n",
    "    \r\n",
    "    #Method to print out all nodes in one line in the linked list:\r\n",
    "    def printll(self):\r\n",
    "        current = self.head\r\n",
    "        ll_string = \"\"\r\n",
    "        while (current):\r\n",
    "            ll_string += str(current.data)\r\n",
    "            if current.next:\r\n",
    "                ll_string += \"-->\"\r\n",
    "            current = current.next\r\n",
    "        print(ll_string)"
   ],
   "outputs": [],
   "metadata": {}
  },
  {
   "cell_type": "markdown",
   "source": [
    "## Create a linked list:"
   ],
   "metadata": {}
  },
  {
   "cell_type": "code",
   "execution_count": 33,
   "source": [
    "a = ll()\r\n",
    "a.insertEnd(5)\r\n",
    "a.insertEnd(3)\r\n",
    "a.insertStart(10)\r\n"
   ],
   "outputs": [],
   "metadata": {}
  },
  {
   "cell_type": "markdown",
   "source": [
    "### Print linked list:"
   ],
   "metadata": {}
  },
  {
   "cell_type": "code",
   "execution_count": 34,
   "source": [
    "a.printll()"
   ],
   "outputs": [
    {
     "output_type": "stream",
     "name": "stdout",
     "text": [
      "10-->5-->3\n"
     ]
    }
   ],
   "metadata": {}
  },
  {
   "cell_type": "markdown",
   "source": [
    "### Find number of nodes in a linked list:"
   ],
   "metadata": {}
  },
  {
   "cell_type": "markdown",
   "source": [
    "## Create a doubly linked list Node class:"
   ],
   "metadata": {}
  },
  {
   "cell_type": "code",
   "execution_count": 33,
   "source": [
    "class dNode:\r\n",
    "    def __init__(self, data):\r\n",
    "        self.data = data\r\n",
    "        self.next = None\r\n",
    "        #additional attribute to store previous value:\r\n",
    "        self.prev = None"
   ],
   "outputs": [],
   "metadata": {}
  }
 ],
 "metadata": {
  "kernelspec": {
   "name": "python3",
   "display_name": "Python 3.8.3 64-bit"
  },
  "language_info": {
   "codemirror_mode": {
    "name": "ipython",
    "version": 3
   },
   "file_extension": ".py",
   "mimetype": "text/x-python",
   "name": "python",
   "nbconvert_exporter": "python",
   "pygments_lexer": "ipython3",
   "version": "3.8.3"
  },
  "interpreter": {
   "hash": "e404b59586357c814bc0d3940e75d6763c00a48753b225b81f7716971b8e1741"
  }
 },
 "nbformat": 4,
 "nbformat_minor": 2
}