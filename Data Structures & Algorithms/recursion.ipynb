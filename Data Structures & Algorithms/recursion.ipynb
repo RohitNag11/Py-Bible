{
 "cells": [
  {
   "cell_type": "markdown",
   "source": [
    "# Recursion\r\n",
    "- [Recursion Examples](#recursion-examples-)\r\n",
    "  * [Factorial function](#factorial-function-)\r\n",
    "  * [nth Fibonacci term function](#nth-fibonacci-term-function-)"
   ],
   "metadata": {}
  },
  {
   "cell_type": "markdown",
   "source": [
    "## Recursion Examples:"
   ],
   "metadata": {}
  },
  {
   "cell_type": "markdown",
   "source": [
    "### Factorial function:"
   ],
   "metadata": {}
  },
  {
   "cell_type": "code",
   "execution_count": 9,
   "source": [
    "def fact(x):\r\n",
    "    #base case:\r\n",
    "    if x == 1:\r\n",
    "        return 1\r\n",
    "    #recursive case:\r\n",
    "    else:\r\n",
    "        return (x * fact(x-1))\r\n",
    "\r\n",
    "#test:\r\n",
    "num = 3\r\n",
    "print(\"The factorial of\", num, \"is\", fact(num))"
   ],
   "outputs": [
    {
     "output_type": "stream",
     "name": "stdout",
     "text": [
      "The factorial of 3 is 6\n"
     ]
    }
   ],
   "metadata": {}
  },
  {
   "cell_type": "markdown",
   "source": [
    "### nth Fibonacci term function:"
   ],
   "metadata": {}
  },
  {
   "cell_type": "code",
   "execution_count": 8,
   "source": [
    "def fib(n):\r\n",
    "    #base cases:\r\n",
    "    if n == 1 or n == 2:\r\n",
    "        return 1\r\n",
    "    #recursive case:\r\n",
    "    else:\r\n",
    "        return (fib(n-1)+fib(n-2))\r\n",
    "\r\n",
    "#test:\r\n",
    "term = 6\r\n",
    "print(fib(term))"
   ],
   "outputs": [
    {
     "output_type": "stream",
     "name": "stdout",
     "text": [
      "8\n"
     ]
    }
   ],
   "metadata": {}
  }
 ],
 "metadata": {
  "orig_nbformat": 4,
  "language_info": {
   "name": "python",
   "version": "3.8.3",
   "mimetype": "text/x-python",
   "codemirror_mode": {
    "name": "ipython",
    "version": 3
   },
   "pygments_lexer": "ipython3",
   "nbconvert_exporter": "python",
   "file_extension": ".py"
  },
  "kernelspec": {
   "name": "python3",
   "display_name": "Python 3.8.3 64-bit"
  },
  "interpreter": {
   "hash": "e404b59586357c814bc0d3940e75d6763c00a48753b225b81f7716971b8e1741"
  }
 },
 "nbformat": 4,
 "nbformat_minor": 2
}